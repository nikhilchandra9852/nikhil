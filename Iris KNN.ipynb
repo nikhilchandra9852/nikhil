{
 "cells": [
  {
   "cell_type": "code",
   "execution_count": 1,
   "metadata": {},
   "outputs": [
    {
     "name": "stderr",
     "output_type": "stream",
     "text": [
      "c:\\users\\hp\\desktop\\nikhil_env\\lib\\site-packages\\ipykernel_launcher.py:15: DataConversionWarning: A column-vector y was passed when a 1d array was expected. Please change the shape of y to (n_samples, ), for example using ravel().\n",
      "  from ipykernel import kernelapp as app\n"
     ]
    }
   ],
   "source": [
    "import pandas as pd\n",
    "from sklearn.preprocessing import LabelEncoder\n",
    "from sklearn.neighbors import KNeighborsClassifier\n",
    "from sklearn.metrics import confusion_matrix,accuracy_score\n",
    "\n",
    "df = pd.read_csv(\"https://gist.githubusercontent.com/curran/a08a1080b88344b0c8a7/raw/0e7a9b0a5d22642a06d3d5b9bcbad9890c8ee534/iris.csv\")\n",
    "x = df[['sepal_length','sepal_width','petal_length','petal_width']]\n",
    "y = df['species']\n",
    "y.value_counts()\n",
    "d= {0:'setosa',1:'versicolor',2:'virginica'}\n",
    "lbc = LabelEncoder()\n",
    "y = lbc.fit_transform(y)\n",
    "y1 = pd.DataFrame(y)\n",
    "model = KNeighborsClassifier()\n",
    "model.fit(x,y1)\n",
    "pred = model.predict(x)\n",
    "accuracy_score(y1,pred)*100\n",
    "import numpy as np"
   ]
  },
  {
   "cell_type": "code",
   "execution_count": 3,
   "metadata": {},
   "outputs": [],
   "source": [
    "from tkinter import *\n",
    "\n",
    "\n",
    "window = Tk(screenName=None,baseName=None, className=\"First inter program\")\n",
    "window.title(\"Iris data using KNN classifier\")\n",
    "window.geometry('400x400')\n",
    "text=\"Enter the sepallength,sepalwidth,petallength,petalwidth\"\n",
    "label=Label(window,text=text)\n",
    "label.pack()\n",
    "sltext = Entry(window)\n",
    "pltext = Entry(window)\n",
    "swtext = Entry(window)\n",
    "pwtext = Entry(window)\n",
    "sltext.pack()\n",
    "pltext.pack()\n",
    "swtext.pack()\n",
    "pwtext.pack()\n",
    "output = Label(window,text='output')\n",
    "output.pack()\n",
    "\n",
    "def clicked():\n",
    "    sl=float(sltext.get())\n",
    "    pl=float(pltext.get())\n",
    "    sw=float(swtext.get())\n",
    "    pw=float(pwtext.get())\n",
    "    l=np.array([[sl,sw,pl,pw]])\n",
    "    f = pd.DataFrame(l,columns=['sl','sw','pl','pw'])\n",
    "    p = model.predict(f)\n",
    "    opt = Label(window,text=d[int(p)])\n",
    "    opt.pack()\n",
    "button = Button(window,text='click',command=clicked)\n",
    "button.pack()\n",
    "\n",
    "window.mainloop()\n"
   ]
  },
  {
   "cell_type": "code",
   "execution_count": null,
   "metadata": {},
   "outputs": [],
   "source": []
  }
 ],
 "metadata": {
  "kernelspec": {
   "display_name": "Python 3",
   "language": "python",
   "name": "python3"
  },
  "language_info": {
   "codemirror_mode": {
    "name": "ipython",
    "version": 3
   },
   "file_extension": ".py",
   "mimetype": "text/x-python",
   "name": "python",
   "nbconvert_exporter": "python",
   "pygments_lexer": "ipython3",
   "version": "3.7.7"
  }
 },
 "nbformat": 4,
 "nbformat_minor": 4
}
